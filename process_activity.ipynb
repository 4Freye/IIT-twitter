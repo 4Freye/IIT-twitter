{
 "cells": [
  {
   "cell_type": "markdown",
   "id": "825b0e70",
   "metadata": {},
   "source": [
    "Create a dataframe with retrieve Tweets from 2022-23"
   ]
  },
  {
   "cell_type": "code",
   "execution_count": 1,
   "id": "5f7b761e",
   "metadata": {},
   "outputs": [],
   "source": [
    "import pandas as pd\n",
    "import json\n",
    "\n",
    "# read the JSONL file\n",
    "with open('data/activity_congress.jsonl', 'r', encoding='utf8') as f:\n",
    "    lines = f.readlines()\n",
    "\n",
    "# convert each JSON object to a dictionary and store in a list\n",
    "data = []\n",
    "for line in lines:\n",
    "    data.append(json.loads(line))\n",
    "\n",
    "# create a dataframe from the list of dictionaries\n",
    "df = pd.DataFrame(data)\n"
   ]
  },
  {
   "cell_type": "code",
   "execution_count": 4,
   "id": "0083bf05",
   "metadata": {},
   "outputs": [],
   "source": [
    "tweets = []\n",
    "for tweet in df['data']:\n",
    "    for t in tweet:\n",
    "        tweet_dict = {}\n",
    "        tweet_dict['user_id'] = t['author_id']\n",
    "        tweet_dict['text'] = t['text']\n",
    "        tweet_dict['created_at'] = t['created_at']\n",
    "        tweets.append(tweet_dict)\n",
    "\n",
    "df_tweets = pd.DataFrame(tweets)"
   ]
  },
  {
   "cell_type": "code",
   "execution_count": 37,
   "id": "db7019ea",
   "metadata": {},
   "outputs": [],
   "source": [
    "df_tweets.to_csv('tweets_congress.csv', index=False)"
   ]
  },
  {
   "cell_type": "markdown",
   "id": "b64c6d19",
   "metadata": {},
   "source": [
    "Convert to word embedded vectors using SBERT. Generate K clusters. Each cluster ‘motive’ is a node"
   ]
  },
  {
   "cell_type": "code",
   "execution_count": 1,
   "id": "5d54b3fc",
   "metadata": {},
   "outputs": [],
   "source": [
    "import pandas as pd\n",
    "from sentence_transformers import SentenceTransformer\n",
    "model = SentenceTransformer('bert-base-nli-mean-tokens')\n",
    "\n",
    "tweets = pd.read_csv('tweets_congress.csv')\n"
   ]
  },
  {
   "cell_type": "code",
   "execution_count": 2,
   "id": "7969c61e",
   "metadata": {},
   "outputs": [
    {
     "name": "stderr",
     "output_type": "stream",
     "text": [
      "[nltk_data] Downloading package stopwords to\n",
      "[nltk_data]     C:\\Users\\ghias\\AppData\\Roaming\\nltk_data...\n",
      "[nltk_data]   Package stopwords is already up-to-date!\n",
      "[nltk_data] Downloading package punkt to\n",
      "[nltk_data]     C:\\Users\\ghias\\AppData\\Roaming\\nltk_data...\n",
      "[nltk_data]   Package punkt is already up-to-date!\n",
      "[nltk_data] Downloading package wordnet to\n",
      "[nltk_data]     C:\\Users\\ghias\\AppData\\Roaming\\nltk_data...\n",
      "[nltk_data]   Package wordnet is already up-to-date!\n"
     ]
    }
   ],
   "source": [
    "import preproc_functions as preproc\n",
    "# apply standard preprocessing\n",
    "tweets['pp_text'] = tweets['text'].apply(preproc.preprocess_text)\n",
    "#add stopwords that occur once in in >=50% of documents\n",
    "tweets = preproc.remove_common_words(tweets, 'pp_text', 'user_id', threshold=0.5)"
   ]
  },
  {
   "cell_type": "code",
   "execution_count": 3,
   "id": "5c1ba497",
   "metadata": {},
   "outputs": [],
   "source": [
    "embeddings = model.encode(tweets['pp_text'])"
   ]
  },
  {
   "cell_type": "code",
   "execution_count": 4,
   "id": "4b37586b",
   "metadata": {},
   "outputs": [],
   "source": [
    "import pandas as pd\n",
    "from scipy.cluster.vq import kmeans, vq\n",
    "\n",
    "# cluster the embeddings\n",
    "k = 12\n",
    "centroids, distortion = kmeans(embeddings, k)\n",
    "clusters, _ = vq(embeddings, centroids)\n",
    "\n",
    "# Assign each tweet to its corresponding cluster\n",
    "tweets['cluster'] = clusters"
   ]
  },
  {
   "cell_type": "code",
   "execution_count": 5,
   "id": "83747437",
   "metadata": {},
   "outputs": [
    {
     "data": {
      "text/html": [
       "<div>\n",
       "<style scoped>\n",
       "    .dataframe tbody tr th:only-of-type {\n",
       "        vertical-align: middle;\n",
       "    }\n",
       "\n",
       "    .dataframe tbody tr th {\n",
       "        vertical-align: top;\n",
       "    }\n",
       "\n",
       "    .dataframe thead th {\n",
       "        text-align: right;\n",
       "    }\n",
       "</style>\n",
       "<table border=\"1\" class=\"dataframe\">\n",
       "  <thead>\n",
       "    <tr style=\"text-align: right;\">\n",
       "      <th></th>\n",
       "      <th>user_id</th>\n",
       "      <th>text</th>\n",
       "      <th>created_at</th>\n",
       "      <th>pp_text</th>\n",
       "      <th>cluster</th>\n",
       "    </tr>\n",
       "  </thead>\n",
       "  <tbody>\n",
       "    <tr>\n",
       "      <th>0</th>\n",
       "      <td>10615232</td>\n",
       "      <td>Serving the ppl of Iowa is my top priority As ...</td>\n",
       "      <td>2022-12-31T21:09:38.000Z</td>\n",
       "      <td>serv ppl iowa top prioriti rank member senat j...</td>\n",
       "      <td>8</td>\n",
       "    </tr>\n",
       "    <tr>\n",
       "      <th>1</th>\n",
       "      <td>10615232</td>\n",
       "      <td>EPA is again trying to expand the definition o...</td>\n",
       "      <td>2022-12-30T19:54:56.000Z</td>\n",
       "      <td>epa tri expand definit water u amp ad red tape...</td>\n",
       "      <td>8</td>\n",
       "    </tr>\n",
       "    <tr>\n",
       "      <th>2</th>\n",
       "      <td>10615232</td>\n",
       "      <td>❤️ https://t.co/JkKusr99i1</td>\n",
       "      <td>2022-12-30T15:56:13.000Z</td>\n",
       "      <td>httpstcojkkusri</td>\n",
       "      <td>5</td>\n",
       "    </tr>\n",
       "    <tr>\n",
       "      <th>3</th>\n",
       "      <td>10615232</td>\n",
       "      <td>Drug traffickers are targeting teens &amp;amp; you...</td>\n",
       "      <td>2022-12-30T15:40:47.000Z</td>\n",
       "      <td>drug traffick target teen amp young adult beef...</td>\n",
       "      <td>2</td>\n",
       "    </tr>\n",
       "    <tr>\n",
       "      <th>4</th>\n",
       "      <td>10615232</td>\n",
       "      <td>My Stop Pills That Kill Act requires the DEA t...</td>\n",
       "      <td>2022-12-30T15:37:41.000Z</td>\n",
       "      <td>stop pill kill act requir dea creat comprehens...</td>\n",
       "      <td>7</td>\n",
       "    </tr>\n",
       "    <tr>\n",
       "      <th>...</th>\n",
       "      <td>...</td>\n",
       "      <td>...</td>\n",
       "      <td>...</td>\n",
       "      <td>...</td>\n",
       "      <td>...</td>\n",
       "    </tr>\n",
       "    <tr>\n",
       "      <th>30578</th>\n",
       "      <td>11651202</td>\n",
       "      <td>RT @GovGianforte: This January, we rolled up o...</td>\n",
       "      <td>2022-01-01T01:10:26.000Z</td>\n",
       "      <td>rt govgianfort januari roll sleev got work lea...</td>\n",
       "      <td>6</td>\n",
       "    </tr>\n",
       "    <tr>\n",
       "      <th>30579</th>\n",
       "      <td>41702856</td>\n",
       "      <td>@PatriciaElsa7 @AdrianzenEduard Y el estaciona...</td>\n",
       "      <td>2022-12-24T23:29:46.000Z</td>\n",
       "      <td>patriciaelsa adrianzeneduard el estacionamient...</td>\n",
       "      <td>1</td>\n",
       "    </tr>\n",
       "    <tr>\n",
       "      <th>30580</th>\n",
       "      <td>41702856</td>\n",
       "      <td>RT @DeltaMdelta: #EstadoDeEmergencia ¿Que impl...</td>\n",
       "      <td>2022-12-14T19:36:05.000Z</td>\n",
       "      <td>rt deltamdelta estadodeemergencia que implica ...</td>\n",
       "      <td>1</td>\n",
       "    </tr>\n",
       "    <tr>\n",
       "      <th>30581</th>\n",
       "      <td>41702856</td>\n",
       "      <td>@ArbildoEna @PennyMontenegro Dios cuide a su h...</td>\n",
       "      <td>2022-12-14T16:56:49.000Z</td>\n",
       "      <td>arbildoena pennymontenegro dio cuid su hijo lo...</td>\n",
       "      <td>0</td>\n",
       "    </tr>\n",
       "    <tr>\n",
       "      <th>30582</th>\n",
       "      <td>41702856</td>\n",
       "      <td>@petrogustavo Señor Petro. Más de 33 millones ...</td>\n",
       "      <td>2022-12-14T16:15:15.000Z</td>\n",
       "      <td>petrogustavo señor petro má de millon de perua...</td>\n",
       "      <td>0</td>\n",
       "    </tr>\n",
       "  </tbody>\n",
       "</table>\n",
       "<p>30583 rows × 5 columns</p>\n",
       "</div>"
      ],
      "text/plain": [
       "        user_id                                               text  \\\n",
       "0      10615232  Serving the ppl of Iowa is my top priority As ...   \n",
       "1      10615232  EPA is again trying to expand the definition o...   \n",
       "2      10615232                         ❤️ https://t.co/JkKusr99i1   \n",
       "3      10615232  Drug traffickers are targeting teens &amp; you...   \n",
       "4      10615232  My Stop Pills That Kill Act requires the DEA t...   \n",
       "...         ...                                                ...   \n",
       "30578  11651202  RT @GovGianforte: This January, we rolled up o...   \n",
       "30579  41702856  @PatriciaElsa7 @AdrianzenEduard Y el estaciona...   \n",
       "30580  41702856  RT @DeltaMdelta: #EstadoDeEmergencia ¿Que impl...   \n",
       "30581  41702856  @ArbildoEna @PennyMontenegro Dios cuide a su h...   \n",
       "30582  41702856  @petrogustavo Señor Petro. Más de 33 millones ...   \n",
       "\n",
       "                     created_at  \\\n",
       "0      2022-12-31T21:09:38.000Z   \n",
       "1      2022-12-30T19:54:56.000Z   \n",
       "2      2022-12-30T15:56:13.000Z   \n",
       "3      2022-12-30T15:40:47.000Z   \n",
       "4      2022-12-30T15:37:41.000Z   \n",
       "...                         ...   \n",
       "30578  2022-01-01T01:10:26.000Z   \n",
       "30579  2022-12-24T23:29:46.000Z   \n",
       "30580  2022-12-14T19:36:05.000Z   \n",
       "30581  2022-12-14T16:56:49.000Z   \n",
       "30582  2022-12-14T16:15:15.000Z   \n",
       "\n",
       "                                                 pp_text  cluster  \n",
       "0      serv ppl iowa top prioriti rank member senat j...        8  \n",
       "1      epa tri expand definit water u amp ad red tape...        8  \n",
       "2                                        httpstcojkkusri        5  \n",
       "3      drug traffick target teen amp young adult beef...        2  \n",
       "4      stop pill kill act requir dea creat comprehens...        7  \n",
       "...                                                  ...      ...  \n",
       "30578  rt govgianfort januari roll sleev got work lea...        6  \n",
       "30579  patriciaelsa adrianzeneduard el estacionamient...        1  \n",
       "30580  rt deltamdelta estadodeemergencia que implica ...        1  \n",
       "30581  arbildoena pennymontenegro dio cuid su hijo lo...        0  \n",
       "30582  petrogustavo señor petro má de millon de perua...        0  \n",
       "\n",
       "[30583 rows x 5 columns]"
      ]
     },
     "execution_count": 5,
     "metadata": {},
     "output_type": "execute_result"
    }
   ],
   "source": [
    "tweets"
   ]
  },
  {
   "cell_type": "code",
   "execution_count": 45,
   "id": "40ee4583",
   "metadata": {},
   "outputs": [
    {
     "name": "stderr",
     "output_type": "stream",
     "text": [
      "C:\\Users\\ghias\\anaconda3\\lib\\site-packages\\sklearn\\cluster\\_kmeans.py:870: FutureWarning: The default value of `n_init` will change from 10 to 'auto' in 1.4. Set the value of `n_init` explicitly to suppress the warning\n",
      "  warnings.warn(\n"
     ]
    },
    {
     "name": "stdout",
     "output_type": "stream",
     "text": [
      "Silhouette Score: 0.047501944\n",
      "Within-cluster sum of squares (WSS): 2867385.75\n"
     ]
    }
   ],
   "source": [
    "from sklearn.cluster import KMeans\n",
    "from sklearn.metrics import silhouette_score\n",
    "\n",
    "k = 12\n",
    "kmeans_model = KMeans(n_clusters=k, random_state=42)\n",
    "kmeans_model.fit(embeddings)\n",
    "\n",
    "# calculate silhouette score\n",
    "silhouette_avg = silhouette_score(embeddings, kmeans_model.labels_)\n",
    "print(\"Silhouette Score:\", silhouette_avg)\n",
    "\n",
    "# calculate within-cluster sum of squares (WSS)\n",
    "wss = kmeans_model.inertia_\n",
    "print(\"Within-cluster sum of squares (WSS):\", wss)\n"
   ]
  },
  {
   "cell_type": "code",
   "execution_count": 6,
   "id": "62a511b7",
   "metadata": {},
   "outputs": [
    {
     "data": {
      "image/png": "[encoded data removed]",
      "text/plain": [
       "<Figure size 432x288 with 1 Axes>"
      ]
     },
     "metadata": {
      "needs_background": "light"
     },
     "output_type": "display_data"
    }
   ],
   "source": [
    "import pandas as pd\n",
    "import matplotlib.pyplot as plt\n",
    "\n",
    "# assume your dataframe is named 'df'\n",
    "# step 1\n",
    "tweets['created_at'] = pd.to_datetime(tweets['created_at'])\n",
    "\n",
    "# step 2\n",
    "tweets.set_index('created_at', inplace=True)\n",
    "\n",
    "# step 3 and 4\n",
    "counts = tweets.groupby('cluster').resample('M').count()\n",
    "\n",
    "# step 5\n",
    "counts = counts['user_id'].unstack('cluster')\n",
    "\n",
    "# step 6\n",
    "counts.plot(kind='line')\n",
    "plt.show()\n"
   ]
  },
  {
   "cell_type": "code",
   "execution_count": 7,
   "id": "41279b3f",
   "metadata": {},
   "outputs": [
    {
     "data": {
      "image/png": "[encoded data removed]",
      "text/plain": [
       "<Figure size 432x288 with 1 Axes>"
      ]
     },
     "metadata": {
      "needs_background": "light"
     },
     "output_type": "display_data"
    }
   ],
   "source": [
    "counts.plot(kind='hist', stacked=True, alpha=0.5, bins=10)\n",
    "plt.show()"
   ]
  },
  {
   "cell_type": "code",
   "execution_count": 9,
   "id": "45a7ad4a",
   "metadata": {},
   "outputs": [
    {
     "data": {
      "image/png": "[encoded data removed]",
      "text/plain": [
       "<Figure size 432x288 with 1 Axes>"
      ]
     },
     "metadata": {
      "needs_background": "light"
     },
     "output_type": "display_data"
    }
   ],
   "source": [
    "# step 6\n",
    "colors = ['blue', 'orange', 'green', 'red', 'purple', 'brown', 'pink', 'gray', 'olive', 'teal', 'navy', 'maroon']\n",
    "for i, col in enumerate(counts.columns):\n",
    "    plt.hist(counts[col], bins=10, alpha=0.5, label=f'Cluster {col}', color=colors[i])\n",
    "\n",
    "plt.legend()\n",
    "plt.xlabel('Number of tweets per day')\n",
    "plt.ylabel('Number of users')\n",
    "plt.show()"
   ]
  },
  {
   "cell_type": "markdown",
   "id": "c8ee9573",
   "metadata": {},
   "source": [
    "Using text mining techniques such as topic modeling to automatically identify the main topics in each cluster."
   ]
  },
  {
   "cell_type": "code",
   "execution_count": 69,
   "id": "85e8963a",
   "metadata": {},
   "outputs": [],
   "source": [
    "from sklearn.decomposition import LatentDirichletAllocation\n",
    "from sklearn.feature_extraction.text import CountVectorizer\n",
    "import numpy as np\n",
    "\n",
    "# create a bag-of-words representation of the text data\n",
    "vectorizer = CountVectorizer(max_features=1000)\n",
    "X = vectorizer.fit_transform(tweets['pp_text'])\n",
    "\n",
    "# set the number of topics\n",
    "n_topics = 6\n",
    "\n",
    "# train an LDA model\n",
    "lda = LatentDirichletAllocation(n_components=n_topics, random_state=42)\n",
    "lda.fit(X)\n",
    "\n",
    "# get the topic probabilities for each document\n",
    "doc_topic_probs = lda.transform(X)\n",
    "\n",
    "# print the top words for each topic\n",
    "topics = []\n",
    "for topic_idx, topic in enumerate(lda.components_):\n",
    "    top_words = []\n",
    "    for i in range(len(vectorizer.vocabulary_)):\n",
    "        if vectorizer.vocabulary_[list(vectorizer.vocabulary_.keys())[i]] == topic.argsort()[:-len(vectorizer.vocabulary_)-1:-1][0]:\n",
    "            top_words.append(list(vectorizer.vocabulary_.keys())[i])\n",
    "    topics.append(top_words)\n",
    "\n",
    "# assign the main topic to each tweet\n",
    "main_topic = []\n",
    "for i in range(len(doc_topic_probs)):\n",
    "    topic_probs = doc_topic_probs[i]\n",
    "    main_topic_idx = np.argmax(topic_probs)\n",
    "    main_topic.append(topics[main_topic_idx][0] if topics[main_topic_idx] else \"\")\n",
    "\n",
    "# add the main topic column to the tweets dataframe\n",
    "tweets['main_topic_6.1'] = main_topic\n",
    "\n",
    "topics_6 = topics.copy()"
   ]
  },
  {
   "cell_type": "code",
   "execution_count": 80,
   "id": "be09e5bf",
   "metadata": {},
   "outputs": [],
   "source": [
    "# from gensim.models.ldamodel import LdaModel\n",
    "# from gensim.corpora.dictionary import Dictionary\n",
    "# from gensim.models.coherencemodel import CoherenceModel\n",
    "# from nltk.tokenize import RegexpTokenizer\n",
    "# from nltk.corpus import stopwords\n",
    "# import pandas as pd\n",
    "\n",
    "# # create a dictionary and bag-of-words representation of the text data\n",
    "# texts = [tweet.split() for tweet in tweets['pp_text']]\n",
    "# dictionary = Dictionary(texts)\n",
    "# corpus = [dictionary.doc2bow(text) for text in texts]\n",
    "\n",
    "# # set the number of topics\n",
    "# n_topics = 12\n",
    "\n",
    "# # assign the topics\n",
    "\n",
    "# dictionary.add_documents(texts)\n",
    "\n",
    "# # train an LDA model\n",
    "# lda = LdaModel(corpus=corpus, num_topics=n_topics, id2word=dictionary)\n",
    "\n",
    "# # get the topic probabilities for each document\n",
    "# doc_topic_probs = lda.get_document_topics(corpus)\n",
    "\n",
    "# # print the top words for each topic\n",
    "# topics = lda.show_topics(num_topics=n_topics, num_words=10)\n",
    "\n",
    "# # assign the main topic to each tweet\n",
    "# main_topic = []\n",
    "# for i, doc in enumerate(doc_topic_probs):\n",
    "#     main_topic_idx = max(doc, key=lambda x: x[1])[0]\n",
    "#     main_topic.append(main_topic_idx)\n",
    "\n",
    "# # add the main topic column to the tweets dataframe\n",
    "# tweets['main_topic_6.2'] = main_topic\n",
    "\n",
    "# # calculate the topic coherence score for the LDA model\n",
    "# coherence_model_lda = CoherenceModel(model=lda, texts=texts, dictionary=dictionary, coherence='c_v')\n",
    "# coherence_lda = coherence_model_lda.get_coherence()\n",
    "# print(\"Topic Coherence Score (LDA):\", coherence_lda)"
   ]
  },
  {
   "cell_type": "code",
   "execution_count": 78,
   "id": "04accc32",
   "metadata": {},
   "outputs": [
    {
     "data": {
      "image/png": "[encoded data removed]",
      "text/plain": [
       "<Figure size 432x288 with 1 Axes>"
      ]
     },
     "metadata": {
      "needs_background": "light"
     },
     "output_type": "display_data"
    }
   ],
   "source": [
    "from gensim.models.ldamodel import LdaModel\n",
    "from gensim.corpora.dictionary import Dictionary\n",
    "from gensim.models.coherencemodel import CoherenceModel\n",
    "from nltk.tokenize import RegexpTokenizer\n",
    "from nltk.corpus import stopwords\n",
    "import pandas as pd\n",
    "import matplotlib.pyplot as plt\n",
    "\n",
    "# create a dictionary and bag-of-words representation of the text data\n",
    "texts = [tweet.split() for tweet in tweets['pp_text']]\n",
    "dictionary = Dictionary(texts)\n",
    "corpus = [dictionary.doc2bow(text) for text in texts]\n",
    "\n",
    "# define the range of topics to explore\n",
    "start_topic = 2\n",
    "end_topic = 12\n",
    "\n",
    "# initialize variables to store coherence scores and main topics\n",
    "coherence_scores = []\n",
    "main_topics = []\n",
    "\n",
    "# iterate through different number of topics\n",
    "for n_topics in range(start_topic, end_topic+1):\n",
    "\n",
    "    # train an LDA model\n",
    "    lda = LdaModel(corpus=corpus, num_topics=n_topics, id2word=dictionary)\n",
    "\n",
    "    # get the topic probabilities for each document\n",
    "    doc_topic_probs = lda.get_document_topics(corpus)\n",
    "\n",
    "    # assign the main topic to each tweet\n",
    "    main_topic = []\n",
    "    for i, doc in enumerate(doc_topic_probs):\n",
    "        main_topic_idx = max(doc, key=lambda x: x[1])[0]\n",
    "        main_topic.append(main_topic_idx)\n",
    "\n",
    "    # add the main topic column to the tweets dataframe\n",
    "    tweets[f'main_topic_{n_topics}'] = main_topic\n",
    "\n",
    "    # calculate the topic coherence score for the LDA model\n",
    "    coherence_model_lda = CoherenceModel(model=lda, texts=texts, dictionary=dictionary, coherence='c_v')\n",
    "    coherence_lda = coherence_model_lda.get_coherence()\n",
    "    \n",
    "    # append coherence score and main topic to lists\n",
    "    coherence_scores.append(coherence_lda)\n",
    "    main_topics.append(n_topics)\n",
    "\n",
    "# plot coherence score vs number of topics\n",
    "plt.plot(main_topics, coherence_scores)\n",
    "plt.xlabel('Number of topics')\n",
    "plt.ylabel('Coherence score')\n",
    "plt.show()"
   ]
  },
  {
   "cell_type": "code",
   "execution_count": 75,
   "id": "a6a1895b",
   "metadata": {},
   "outputs": [],
   "source": [
    "#tweets = tweets.drop(columns=['main_topic_6.1', 'main_topic_6.2'])"
   ]
  },
  {
   "cell_type": "code",
   "execution_count": 81,
   "id": "23d99ad6",
   "metadata": {},
   "outputs": [
    {
     "data": {
      "text/plain": [
       "Index(['user_id', 'text', 'pp_text', 'cluster', 'main_topic_6.2', 'main_topic',\n",
       "       'main_topic_2', 'main_topic_3', 'main_topic_4', 'main_topic_5',\n",
       "       'main_topic_6', 'main_topic_7', 'main_topic_8', 'main_topic_9',\n",
       "       'main_topic_10', 'main_topic_11', 'main_topic_12'],\n",
       "      dtype='object')"
      ]
     },
     "execution_count": 81,
     "metadata": {},
     "output_type": "execute_result"
    }
   ],
   "source": [
    "tweets.columns"
   ]
  },
  {
   "cell_type": "code",
   "execution_count": null,
   "id": "eda7f007",
   "metadata": {},
   "outputs": [],
   "source": []
  },
  {
   "cell_type": "code",
   "execution_count": null,
   "id": "1d3fc58f",
   "metadata": {},
   "outputs": [],
   "source": []
  },
  {
   "cell_type": "code",
   "execution_count": null,
   "id": "3270f6e0",
   "metadata": {},
   "outputs": [],
   "source": []
  }
 ],
 "metadata": {
  "kernelspec": {
   "display_name": "Python 3",
   "language": "python",
   "name": "python3"
  },
  "language_info": {
   "codemirror_mode": {
    "name": "ipython",
    "version": 3
   },
   "file_extension": ".py",
   "mimetype": "text/x-python",
   "name": "python",
   "nbconvert_exporter": "python",
   "pygments_lexer": "ipython3",
   "version": "3.9.16"
  }
 },
 "nbformat": 4,
 "nbformat_minor": 5
}
