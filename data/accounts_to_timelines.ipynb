{
 "cells": [
  {
   "attachments": {},
   "cell_type": "markdown",
   "metadata": {},
   "source": [
    "## Preprocessing of congressmembers' twitter accounts\n",
    "This notebook performs preprocessing, taking the account names of members of the 117th Congress, converting them to user ids, and then obtaining the timelines associated with those users."
   ]
  },
  {
   "cell_type": "code",
   "execution_count": 21,
   "metadata": {},
   "outputs": [],
   "source": [
    "# this is a function that takes a string and the name of a file as inputs and writes a text file with the string inside.\n",
    "def string_to_txt(string, file_name):\n",
    "    #open text file\n",
    "    txt_file = open(file_name, \"w\")\n",
    " \n",
    "    #write string to file\n",
    "    txt_file.write(string)\n",
    " \n",
    "    #close file\n",
    "    txt_file.close()"
   ]
  },
  {
   "attachments": {},
   "cell_type": "markdown",
   "metadata": {},
   "source": [
    "#### Create text file of congress accounts"
   ]
  },
  {
   "cell_type": "code",
   "execution_count": 20,
   "metadata": {},
   "outputs": [],
   "source": [
    "import pandas as pd\n",
    "\n",
    "# read the csv file, select the links, select the last split (the account), and write to a string\n",
    "accounts = pd.read_csv('congress_twitter_117th_combined.csv').Link.astype('str').apply(lambda x: x.split('/')[-1]).to_csv(header=False,index=False)\n",
    "\n",
    "string_to_txt(accounts, \"twitter_accounts_117th_congress.txt\")"
   ]
  },
  {
   "attachments": {},
   "cell_type": "markdown",
   "metadata": {},
   "source": [
    "#### Using twarc to get user IDs from accounts, then get the timelines of those users"
   ]
  },
  {
   "cell_type": "code",
   "execution_count": 13,
   "metadata": {},
   "outputs": [
    {
     "name": "stdout",
     "output_type": "stream",
     "text": [
      "100%|███████████| Processed 537/537 lines of input file [00:06<00:00, 83.63it/s]\n"
     ]
    }
   ],
   "source": [
    "# How to get IDs from account names\n",
    "!twarc2 users --usernames twitter_accounts_117th_congress.txt user_ids_117th_congress.jsonl  "
   ]
  },
  {
   "cell_type": "code",
   "execution_count": 22,
   "metadata": {},
   "outputs": [],
   "source": [
    "# Now that we have twitter IDs of congress, convert to a text file.\n",
    "import pandas as pd\n",
    "raw_json = pd.read_json('user_ids_117th_congress.jsonl', lines=True)['data']\n",
    "congress_ids = pd.concat([pd.DataFrame(raw_json[0]), pd.DataFrame(raw_json[1]), pd.DataFrame(raw_json[2]), pd.DataFrame(raw_json[3]),  pd.DataFrame(raw_json[4]), pd.DataFrame(raw_json[5])],  axis=0)\n",
    "ids = congress_ids.id.to_csv(header=False, index=False)\n",
    "\n",
    "string_to_txt(ids, \"twitter_ids_117th_congress.txt\")"
   ]
  },
  {
   "cell_type": "code",
   "execution_count": 24,
   "metadata": {},
   "outputs": [],
   "source": [
    "# How to get all twitter history from users of congress:\n",
    "!twarc2 timelines twitter_ids_117th_congress.txt --start-time \"2022-07-01\" --end-time \"2022-10-01\" > timelines/july_sep_2022_congress_twitter_activity.jsonl"
   ]
  }
 ],
 "metadata": {
  "kernelspec": {
   "display_name": "base",
   "language": "python",
   "name": "python3"
  },
  "language_info": {
   "codemirror_mode": {
    "name": "ipython",
    "version": 3
   },
   "file_extension": ".py",
   "mimetype": "text/x-python",
   "name": "python",
   "nbconvert_exporter": "python",
   "pygments_lexer": "ipython3",
   "version": "3.9.16"
  },
  "orig_nbformat": 4
 },
 "nbformat": 4,
 "nbformat_minor": 2
}
