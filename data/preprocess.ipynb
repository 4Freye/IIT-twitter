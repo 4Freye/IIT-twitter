{
 "cells": [
  {
   "cell_type": "code",
   "execution_count": null,
   "metadata": {},
   "outputs": [],
   "source": [
    "# How to get IDs from account names\n",
    "# twarc2 users --usernames accounts/congress_accounts.txt congress_accounts.jsonl  "
   ]
  },
  {
   "cell_type": "code",
   "execution_count": 25,
   "metadata": {},
   "outputs": [],
   "source": [
    "import pandas as pd\n",
    "raw_json = pd.read_json('congress_accounts1.jsonl', lines=True)['data']\n",
    "congress_ids = pd.concat([pd.DataFrame(raw_json[0]), pd.DataFrame(raw_json[1]), pd.DataFrame(raw_json[2]), pd.DataFrame(raw_json[3]),  pd.DataFrame(raw_json[4]), pd.DataFrame(raw_json[5])],  axis=0)\n",
    "print(congress_ids.ids.to_csv(header=False, index=False))"
   ]
  },
  {
   "cell_type": "code",
   "execution_count": null,
   "metadata": {},
   "outputs": [],
   "source": [
    "# How to get all twitter history from users of congress:\n",
    "# twarc2 timelines twitter_ids.txt --start-time \"2022-01-01\" --end-time \"2023-01-01\" > activity_congress.jsonl"
   ]
  }
 ],
 "metadata": {
  "kernelspec": {
   "display_name": "base",
   "language": "python",
   "name": "python3"
  },
  "language_info": {
   "codemirror_mode": {
    "name": "ipython",
    "version": 3
   },
   "file_extension": ".py",
   "mimetype": "text/x-python",
   "name": "python",
   "nbconvert_exporter": "python",
   "pygments_lexer": "ipython3",
   "version": "3.9.16"
  },
  "orig_nbformat": 4
 },
 "nbformat": 4,
 "nbformat_minor": 2
}
