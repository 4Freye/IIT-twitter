{
 "cells": [
  {
   "cell_type": "markdown",
   "id": "825b0e70",
   "metadata": {},
   "source": [
    "Create a dataframe with retrieve Tweets from 2022-23"
   ]
  },
  {
   "cell_type": "code",
   "execution_count": 4,
   "id": "5f7b761e",
   "metadata": {},
   "outputs": [],
   "source": [
    "import pandas as pd\n",
    "import json\n",
    "\n",
    "# read the JSONL file\n",
    "with open('data/activity_congress_2.jsonl', 'r', encoding='utf8') as f:\n",
    "    lines = f.readlines()\n",
    "\n",
    "# convert each JSON object to a dictionary and store in a list\n",
    "data = []\n",
    "for line in lines:\n",
    "    data.append(json.loads(line))\n",
    "\n",
    "# create a dataframe from the list of dictionaries\n",
    "df = pd.DataFrame(data)"
   ]
  },
  {
   "cell_type": "code",
   "execution_count": 5,
   "id": "0083bf05",
   "metadata": {},
   "outputs": [],
   "source": [
    "tweets = []\n",
    "for tweet in df['data']:\n",
    "    for t in tweet:\n",
    "        tweet_dict = {}\n",
    "        tweet_dict['user_id'] = t['author_id']\n",
    "        tweet_dict['text'] = t['text']\n",
    "        tweet_dict['created_at'] = t['created_at']\n",
    "        tweets.append(tweet_dict)\n",
    "\n",
    "df_tweets = pd.DataFrame(tweets)"
   ]
  },
  {
   "cell_type": "code",
   "execution_count": 6,
   "id": "db7019ea",
   "metadata": {},
   "outputs": [],
   "source": [
    "df_tweets.to_csv('tweets_congress.csv', index=False)"
   ]
  },
  {
   "cell_type": "markdown",
   "id": "b64c6d19",
   "metadata": {},
   "source": [
    "Convert to word embedded vectors using SBERT. Generate K clusters. Each cluster ‘motive’ is a node"
   ]
  },
  {
   "cell_type": "code",
   "execution_count": 7,
   "id": "5d54b3fc",
   "metadata": {},
   "outputs": [],
   "source": [
    "import pandas as pd\n",
    "from sentence_transformers import SentenceTransformer\n",
    "model = SentenceTransformer('bert-base-nli-mean-tokens')\n",
    "\n",
    "tweets = pd.read_csv('tweets_congress.csv')\n"
   ]
  },
  {
   "cell_type": "code",
   "execution_count": 8,
   "id": "7969c61e",
   "metadata": {},
   "outputs": [
    {
     "name": "stderr",
     "output_type": "stream",
     "text": [
      "[nltk_data] Downloading package stopwords to\n",
      "[nltk_data]     C:\\Users\\ghias\\AppData\\Roaming\\nltk_data...\n",
      "[nltk_data]   Package stopwords is already up-to-date!\n",
      "[nltk_data] Downloading package punkt to\n",
      "[nltk_data]     C:\\Users\\ghias\\AppData\\Roaming\\nltk_data...\n",
      "[nltk_data]   Package punkt is already up-to-date!\n",
      "[nltk_data] Downloading package wordnet to\n",
      "[nltk_data]     C:\\Users\\ghias\\AppData\\Roaming\\nltk_data...\n",
      "[nltk_data]   Package wordnet is already up-to-date!\n"
     ]
    }
   ],
   "source": [
    "import preproc_functions as preproc\n",
    "# apply standard preprocessing\n",
    "tweets['pp_text'] = tweets['text'].apply(preproc.preprocess_text)\n",
    "#add stopwords that occur once in in >=50% of documents\n",
    "tweets = preproc.remove_common_words(tweets, 'pp_text', 'user_id', threshold=0.5)"
   ]
  },
  {
   "cell_type": "code",
   "execution_count": 9,
   "id": "5c1ba497",
   "metadata": {},
   "outputs": [],
   "source": [
    "embeddings = model.encode(tweets['pp_text'])"
   ]
  },
  {
   "cell_type": "code",
   "execution_count": 10,
   "id": "4b37586b",
   "metadata": {},
   "outputs": [],
   "source": [
    "import pandas as pd\n",
    "from scipy.cluster.vq import kmeans, vq\n",
    "\n",
    "# cluster the embeddings\n",
    "k = 6\n",
    "centroids, distortion = kmeans(embeddings, k)\n",
    "clusters, _ = vq(embeddings, centroids)\n",
    "\n",
    "# Assign each tweet to its corresponding cluster\n",
    "tweets['cluster'] = clusters"
   ]
  },
  {
   "cell_type": "code",
   "execution_count": 11,
   "id": "83747437",
   "metadata": {},
   "outputs": [
    {
     "data": {
      "text/html": [
       "<div>\n",
       "<style scoped>\n",
       "    .dataframe tbody tr th:only-of-type {\n",
       "        vertical-align: middle;\n",
       "    }\n",
       "\n",
       "    .dataframe tbody tr th {\n",
       "        vertical-align: top;\n",
       "    }\n",
       "\n",
       "    .dataframe thead th {\n",
       "        text-align: right;\n",
       "    }\n",
       "</style>\n",
       "<table border=\"1\" class=\"dataframe\">\n",
       "  <thead>\n",
       "    <tr style=\"text-align: right;\">\n",
       "      <th></th>\n",
       "      <th>user_id</th>\n",
       "      <th>text</th>\n",
       "      <th>created_at</th>\n",
       "      <th>pp_text</th>\n",
       "      <th>cluster</th>\n",
       "    </tr>\n",
       "  </thead>\n",
       "  <tbody>\n",
       "    <tr>\n",
       "      <th>0</th>\n",
       "      <td>1074518754</td>\n",
       "      <td>This past year, Congressional Dems worked hard...</td>\n",
       "      <td>2022-12-30T16:01:00.000Z</td>\n",
       "      <td>past year congression dem work hard lower heal...</td>\n",
       "      <td>2</td>\n",
       "    </tr>\n",
       "    <tr>\n",
       "      <th>1</th>\n",
       "      <td>1074518754</td>\n",
       "      <td>Today marks the first day of #Kwanzaa! I’m wis...</td>\n",
       "      <td>2022-12-26T15:45:59.000Z</td>\n",
       "      <td>today mark first day kwanzaa im wish celebr wi...</td>\n",
       "      <td>4</td>\n",
       "    </tr>\n",
       "    <tr>\n",
       "      <th>2</th>\n",
       "      <td>1074518754</td>\n",
       "      <td>Merry Christmas and happy holidays Wisconsin! ...</td>\n",
       "      <td>2022-12-25T16:11:25.000Z</td>\n",
       "      <td>merri christma happi holiday wisconsin httpstc...</td>\n",
       "      <td>3</td>\n",
       "    </tr>\n",
       "    <tr>\n",
       "      <th>3</th>\n",
       "      <td>1074518754</td>\n",
       "      <td>Happy holidays to the brave men &amp;amp; women in...</td>\n",
       "      <td>2022-12-23T17:54:20.000Z</td>\n",
       "      <td>happi holiday brave men amp woman arm forc ser...</td>\n",
       "      <td>4</td>\n",
       "    </tr>\n",
       "    <tr>\n",
       "      <th>4</th>\n",
       "      <td>1074518754</td>\n",
       "      <td>My Statement on the Senate’s Omnibus passage: ...</td>\n",
       "      <td>2022-12-22T19:29:26.000Z</td>\n",
       "      <td>statement senat omnibu passag httpstcordupgatm</td>\n",
       "      <td>0</td>\n",
       "    </tr>\n",
       "    <tr>\n",
       "      <th>...</th>\n",
       "      <td>...</td>\n",
       "      <td>...</td>\n",
       "      <td>...</td>\n",
       "      <td>...</td>\n",
       "      <td>...</td>\n",
       "    </tr>\n",
       "    <tr>\n",
       "      <th>21098</th>\n",
       "      <td>13218102</td>\n",
       "      <td>#BidenBorderCrisis https://t.co/QbisajChIn</td>\n",
       "      <td>2022-08-25T20:48:26.000Z</td>\n",
       "      <td>bidenbordercrisi httpstcoqbisajchin</td>\n",
       "      <td>0</td>\n",
       "    </tr>\n",
       "    <tr>\n",
       "      <th>21099</th>\n",
       "      <td>13218102</td>\n",
       "      <td>RT @KellyO: WH cannot say how much the student...</td>\n",
       "      <td>2022-08-25T17:45:14.000Z</td>\n",
       "      <td>rt kellyo wh say much student loan forgiv plan...</td>\n",
       "      <td>5</td>\n",
       "    </tr>\n",
       "    <tr>\n",
       "      <th>21100</th>\n",
       "      <td>13218102</td>\n",
       "      <td>With IRS Funding, Democrats Plan To Audit the ...</td>\n",
       "      <td>2022-08-25T17:42:19.000Z</td>\n",
       "      <td>ir fund democrat plan audit middl class httpst...</td>\n",
       "      <td>5</td>\n",
       "    </tr>\n",
       "    <tr>\n",
       "      <th>21101</th>\n",
       "      <td>13218102</td>\n",
       "      <td>Great to visit @TAMUHealth Center of Excellenc...</td>\n",
       "      <td>2022-08-25T17:40:45.000Z</td>\n",
       "      <td>great visit tamuhealth center excel forens nur...</td>\n",
       "      <td>3</td>\n",
       "    </tr>\n",
       "    <tr>\n",
       "      <th>21102</th>\n",
       "      <td>13218102</td>\n",
       "      <td>Due to a provision Majority Leader Schumer inc...</td>\n",
       "      <td>2022-08-25T16:21:58.000Z</td>\n",
       "      <td>due provis major leader schumer includ america...</td>\n",
       "      <td>5</td>\n",
       "    </tr>\n",
       "  </tbody>\n",
       "</table>\n",
       "<p>21103 rows × 5 columns</p>\n",
       "</div>"
      ],
      "text/plain": [
       "          user_id                                               text  \\\n",
       "0      1074518754  This past year, Congressional Dems worked hard...   \n",
       "1      1074518754  Today marks the first day of #Kwanzaa! I’m wis...   \n",
       "2      1074518754  Merry Christmas and happy holidays Wisconsin! ...   \n",
       "3      1074518754  Happy holidays to the brave men &amp; women in...   \n",
       "4      1074518754  My Statement on the Senate’s Omnibus passage: ...   \n",
       "...           ...                                                ...   \n",
       "21098    13218102         #BidenBorderCrisis https://t.co/QbisajChIn   \n",
       "21099    13218102  RT @KellyO: WH cannot say how much the student...   \n",
       "21100    13218102  With IRS Funding, Democrats Plan To Audit the ...   \n",
       "21101    13218102  Great to visit @TAMUHealth Center of Excellenc...   \n",
       "21102    13218102  Due to a provision Majority Leader Schumer inc...   \n",
       "\n",
       "                     created_at  \\\n",
       "0      2022-12-30T16:01:00.000Z   \n",
       "1      2022-12-26T15:45:59.000Z   \n",
       "2      2022-12-25T16:11:25.000Z   \n",
       "3      2022-12-23T17:54:20.000Z   \n",
       "4      2022-12-22T19:29:26.000Z   \n",
       "...                         ...   \n",
       "21098  2022-08-25T20:48:26.000Z   \n",
       "21099  2022-08-25T17:45:14.000Z   \n",
       "21100  2022-08-25T17:42:19.000Z   \n",
       "21101  2022-08-25T17:40:45.000Z   \n",
       "21102  2022-08-25T16:21:58.000Z   \n",
       "\n",
       "                                                 pp_text  cluster  \n",
       "0      past year congression dem work hard lower heal...        2  \n",
       "1      today mark first day kwanzaa im wish celebr wi...        4  \n",
       "2      merri christma happi holiday wisconsin httpstc...        3  \n",
       "3      happi holiday brave men amp woman arm forc ser...        4  \n",
       "4         statement senat omnibu passag httpstcordupgatm        0  \n",
       "...                                                  ...      ...  \n",
       "21098                bidenbordercrisi httpstcoqbisajchin        0  \n",
       "21099  rt kellyo wh say much student loan forgiv plan...        5  \n",
       "21100  ir fund democrat plan audit middl class httpst...        5  \n",
       "21101  great visit tamuhealth center excel forens nur...        3  \n",
       "21102  due provis major leader schumer includ america...        5  \n",
       "\n",
       "[21103 rows x 5 columns]"
      ]
     },
     "execution_count": 11,
     "metadata": {},
     "output_type": "execute_result"
    }
   ],
   "source": [
    "tweets"
   ]
  },
  {
   "cell_type": "code",
   "execution_count": 12,
   "id": "40ee4583",
   "metadata": {},
   "outputs": [
    {
     "name": "stderr",
     "output_type": "stream",
     "text": [
      "C:\\Users\\ghias\\anaconda3\\lib\\site-packages\\sklearn\\cluster\\_kmeans.py:870: FutureWarning: The default value of `n_init` will change from 10 to 'auto' in 1.4. Set the value of `n_init` explicitly to suppress the warning\n",
      "  warnings.warn(\n"
     ]
    },
    {
     "name": "stdout",
     "output_type": "stream",
     "text": [
      "Silhouette Score: 0.047955923\n",
      "Within-cluster sum of squares (WSS): 2062834.25\n"
     ]
    }
   ],
   "source": [
    "from sklearn.cluster import KMeans\n",
    "from sklearn.metrics import silhouette_score\n",
    "\n",
    "k = 6\n",
    "kmeans_model = KMeans(n_clusters=k, random_state=42)\n",
    "kmeans_model.fit(embeddings)\n",
    "\n",
    "# calculate silhouette score\n",
    "silhouette_avg = silhouette_score(embeddings, kmeans_model.labels_)\n",
    "print(\"Silhouette Score:\", silhouette_avg)\n",
    "\n",
    "# calculate within-cluster sum of squares (WSS)\n",
    "wss = kmeans_model.inertia_\n",
    "print(\"Within-cluster sum of squares (WSS):\", wss)\n"
   ]
  },
  {
   "cell_type": "code",
   "execution_count": 13,
   "id": "62a511b7",
   "metadata": {},
   "outputs": [
    {
     "data": {
      "image/png": "[encoded data removed]",
      "text/plain": [
       "<Figure size 432x288 with 1 Axes>"
      ]
     },
     "metadata": {
      "needs_background": "light"
     },
     "output_type": "display_data"
    }
   ],
   "source": [
    "import pandas as pd\n",
    "import matplotlib.pyplot as plt\n",
    "\n",
    "# assume your dataframe is named 'df'\n",
    "# step 1\n",
    "tweets['created_at'] = pd.to_datetime(tweets['created_at'])\n",
    "\n",
    "# step 2\n",
    "tweets.set_index('created_at', inplace=True)\n",
    "\n",
    "# step 3 and 4\n",
    "counts = tweets.groupby('cluster').resample('M').count()\n",
    "\n",
    "# step 5\n",
    "counts = counts['user_id'].unstack('cluster')\n",
    "\n",
    "# step 6\n",
    "counts.plot(kind='line')\n",
    "plt.show()\n"
   ]
  },
  {
   "cell_type": "code",
   "execution_count": 14,
   "id": "41279b3f",
   "metadata": {},
   "outputs": [
    {
     "data": {
      "image/png": "[encoded data removed]",
      "text/plain": [
       "<Figure size 432x288 with 1 Axes>"
      ]
     },
     "metadata": {
      "needs_background": "light"
     },
     "output_type": "display_data"
    }
   ],
   "source": [
    "counts.plot(kind='hist', stacked=True, alpha=0.5, bins=10)\n",
    "plt.show()"
   ]
  },
  {
   "cell_type": "code",
   "execution_count": 15,
   "id": "45a7ad4a",
   "metadata": {},
   "outputs": [
    {
     "data": {
      "image/png": "[encoded data removed]",
      "text/plain": [
       "<Figure size 432x288 with 1 Axes>"
      ]
     },
     "metadata": {
      "needs_background": "light"
     },
     "output_type": "display_data"
    }
   ],
   "source": [
    "# step 6\n",
    "colors = ['blue', 'orange', 'green', 'red', 'purple', 'brown', 'pink', 'gray', 'olive', 'teal', 'navy', 'maroon']\n",
    "for i, col in enumerate(counts.columns):\n",
    "    plt.hist(counts[col], bins=10, alpha=0.5, label=f'Cluster {col}', color=colors[i])\n",
    "\n",
    "plt.legend()\n",
    "plt.xlabel('Number of tweets per day')\n",
    "plt.ylabel('Number of users')\n",
    "plt.show()"
   ]
  },
  {
   "cell_type": "markdown",
   "id": "c8ee9573",
   "metadata": {},
   "source": [
    "Using text mining techniques such as topic modeling to automatically identify the main topics in each cluster."
   ]
  },
  {
   "cell_type": "code",
   "execution_count": 32,
   "id": "85e8963a",
   "metadata": {},
   "outputs": [],
   "source": [
    "from sklearn.decomposition import LatentDirichletAllocation\n",
    "from sklearn.feature_extraction.text import CountVectorizer\n",
    "import numpy as np\n",
    "\n",
    "# create a bag-of-words representation of the text data\n",
    "vectorizer = CountVectorizer(max_features=1000)\n",
    "X = vectorizer.fit_transform(tweets['pp_text'])\n",
    "\n",
    "# set the number of topics\n",
    "n_topics = 6\n",
    "\n",
    "# train an LDA model\n",
    "lda = LatentDirichletAllocation(n_components=n_topics, random_state=42)\n",
    "lda.fit(X)\n",
    "\n",
    "# get the topic probabilities for each document\n",
    "doc_topic_probs = lda.transform(X)\n",
    "\n",
    "# print the top words for each topic\n",
    "topics = []\n",
    "for topic_idx, topic in enumerate(lda.components_):\n",
    "    top_words = []\n",
    "    for i in range(len(vectorizer.vocabulary_)):\n",
    "        if vectorizer.vocabulary_[list(vectorizer.vocabulary_.keys())[i]] == topic.argsort()[:-len(vectorizer.vocabulary_)-1:-1][0]:\n",
    "            top_words.append(list(vectorizer.vocabulary_.keys())[i])\n",
    "    topics.append(top_words)\n",
    "\n",
    "# assign the main topic to each tweet\n",
    "main_topic = []\n",
    "for i in range(len(doc_topic_probs)):\n",
    "    topic_probs = doc_topic_probs[i]\n",
    "    main_topic_idx = np.argmax(topic_probs)\n",
    "    main_topic.append(topics[main_topic_idx][0] if topics[main_topic_idx] else \"\")\n",
    "\n",
    "# add the main topic column to the tweets dataframe\n",
    "tweets['main_topic_6.1'] = main_topic\n",
    "\n",
    "topics_6 = topics.copy()"
   ]
  },
  {
   "cell_type": "code",
   "execution_count": 33,
   "id": "be09e5bf",
   "metadata": {},
   "outputs": [
    {
     "name": "stderr",
     "output_type": "stream",
     "text": [
      "[nltk_data] Downloading package punkt to\n",
      "[nltk_data]     C:\\Users\\ghias\\AppData\\Roaming\\nltk_data...\n",
      "[nltk_data]   Package punkt is already up-to-date!\n"
     ]
    },
    {
     "name": "stdout",
     "output_type": "stream",
     "text": [
      "Coherence Score: nan\n"
     ]
    }
   ],
   "source": [
    "import gensim\n",
    "from gensim.models.ldamodel import LdaModel\n",
    "from gensim.models.coherencemodel import CoherenceModel\n",
    "import nltk\n",
    "from nltk.tokenize import word_tokenize\n",
    "import string\n",
    "from nltk.corpus import stopwords\n",
    "from nltk.stem import WordNetLemmatizer\n",
    "\n",
    "nltk.download('punkt')\n",
    "\n",
    "\n",
    "def preprocess_text(text):\n",
    "    # convert to lowercase\n",
    "#     text = text.lower()\n",
    "    # tokenize\n",
    "    tokens = word_tokenize(text)\n",
    "#     # remove punctuation\n",
    "#     tokens = [token for token in tokens if token not in string.punctuation]\n",
    "#     # remove stopwords\n",
    "#     tokens = [token for token in tokens if token not in stopwords.words('english')]\n",
    "#     # lemmatize\n",
    "#     lemmatizer = WordNetLemmatizer()\n",
    "#     tokens = [lemmatizer.lemmatize(token) for token in tokens]\n",
    "    # return list of tokens\n",
    "    return tokens\n",
    "\n",
    "tweets['pp_text_tok'] = tweets['pp_text'].apply(preprocess_text)\n",
    "\n",
    "# create a dictionary from the text data\n",
    "dictionary = gensim.corpora.Dictionary(tweets['pp_text_tok'])\n",
    "\n",
    "# create a corpus from the bag-of-words representation\n",
    "corpus = [dictionary.doc2bow(text) for text in tweets['pp_text_tok']]\n",
    "\n",
    "# create the LDA model\n",
    "lda = LdaModel(corpus=corpus, id2word=dictionary, num_topics=6, iterations=500)\n",
    "\n",
    "# calculate the coherence score for the LDA model\n",
    "coherence_model_lda = CoherenceModel(model=lda, texts=tweets['pp_text'], dictionary=dictionary, coherence='c_v')\n",
    "coherence_lda = coherence_model_lda.get_coherence()\n",
    "print(f'Coherence Score: {coherence_lda:.3f}')\n"
   ]
  },
  {
   "cell_type": "code",
   "execution_count": 35,
   "id": "04accc32",
   "metadata": {},
   "outputs": [
    {
     "data": {
      "image/png": "[encoded data removed]",
      "text/plain": [
       "<Figure size 432x288 with 1 Axes>"
      ]
     },
     "metadata": {
      "needs_background": "light"
     },
     "output_type": "display_data"
    }
   ],
   "source": [
    "from gensim.models.ldamodel import LdaModel\n",
    "from gensim.corpora.dictionary import Dictionary\n",
    "from gensim.models.coherencemodel import CoherenceModel\n",
    "from nltk.tokenize import RegexpTokenizer\n",
    "from nltk.corpus import stopwords\n",
    "import pandas as pd\n",
    "import matplotlib.pyplot as plt\n",
    "\n",
    "# create a dictionary and bag-of-words representation of the text data\n",
    "texts = [tweet.split() for tweet in tweets['pp_text']]\n",
    "dictionary = Dictionary(texts)\n",
    "corpus = [dictionary.doc2bow(text) for text in texts]\n",
    "\n",
    "# define the range of topics to explore\n",
    "start_topic = 2\n",
    "end_topic = 20\n",
    "\n",
    "# initialize variables to store coherence scores and main topics\n",
    "coherence_scores = []\n",
    "main_topics = []\n",
    "\n",
    "# iterate through different number of topics\n",
    "for n_topics in range(start_topic, end_topic+1,4):\n",
    "\n",
    "    # train an LDA model\n",
    "    lda = LdaModel(corpus=corpus, num_topics=n_topics, id2word=dictionary)\n",
    "\n",
    "    # get the topic probabilities for each document\n",
    "    doc_topic_probs = lda.get_document_topics(corpus)\n",
    "\n",
    "    # assign the main topic to each tweet\n",
    "    main_topic = []\n",
    "    for i, doc in enumerate(doc_topic_probs):\n",
    "        main_topic_idx = max(doc, key=lambda x: x[1])[0]\n",
    "        main_topic.append(main_topic_idx)\n",
    "\n",
    "    # add the main topic column to the tweets dataframe\n",
    "    tweets[f'main_topic_{n_topics}'] = main_topic\n",
    "\n",
    "    # calculate the topic coherence score for the LDA model\n",
    "    coherence_model_lda = CoherenceModel(model=lda, texts=texts, dictionary=dictionary, coherence='c_v')\n",
    "    coherence_lda = coherence_model_lda.get_coherence()\n",
    "    \n",
    "    # append coherence score and main topic to lists\n",
    "    coherence_scores.append(coherence_lda)\n",
    "    main_topics.append(n_topics)\n",
    "\n",
    "# plot coherence score vs number of topics\n",
    "plt.plot(main_topics, coherence_scores)\n",
    "plt.xlabel('Number of topics')\n",
    "plt.ylabel('Coherence score')\n",
    "plt.show()"
   ]
  },
  {
   "cell_type": "code",
   "execution_count": 41,
   "id": "a6a1895b",
   "metadata": {},
   "outputs": [],
   "source": [
    "# reset the index to a new column and rename it\n",
    "tweets = tweets.reset_index().rename(columns={'index': 'created_at'})"
   ]
  },
  {
   "cell_type": "code",
   "execution_count": 61,
   "id": "eda7f007",
   "metadata": {},
   "outputs": [],
   "source": [
    "from gensim.models.ldamodel import LdaModel\n",
    "from gensim.corpora.dictionary import Dictionary\n",
    "from gensim.models.coherencemodel import CoherenceModel\n",
    "from nltk.tokenize import RegexpTokenizer\n",
    "from nltk.corpus import stopwords\n",
    "import pandas as pd\n",
    "import matplotlib.pyplot as plt\n",
    "import re\n",
    "\n",
    "def get_lda_topics(lda_model, num_topics):\n",
    "    word_dict = {}\n",
    "    for i in range(num_topics):\n",
    "        words = lda_model.show_topic(i, topn = 5)\n",
    "        word_dict[i] = [word[0] for word in words]\n",
    "    return word_dict\n",
    "\n",
    "\n",
    "# define the regular expression pattern to match 'rt' and 'amp' in the text\n",
    "rt_amp_pattern = re.compile(r'\\b(rt|amp)\\b')\n",
    "\n",
    "# preprocess the text data by removing stopwords, rt, and amp\n",
    "tokenizer = RegexpTokenizer(r'\\w+')\n",
    "stop_words = set(stopwords.words('english'))\n",
    "preprocessed_texts = []\n",
    "for tweet in tweets['pp_text']:\n",
    "    # remove rt and amp\n",
    "    tweet = rt_amp_pattern.sub('', tweet)\n",
    "    # tokenize and remove stopwords\n",
    "    tokens = [token for token in tokenizer.tokenize(tweet.lower()) if token not in stop_words]\n",
    "    preprocessed_texts.append(tokens)\n",
    "\n",
    "# create a dictionary and bag-of-words representation of the preprocessed text data\n",
    "dictionary = Dictionary(preprocessed_texts)\n",
    "corpus = [dictionary.doc2bow(text) for text in preprocessed_texts]\n",
    "\n",
    "\n",
    "# train an LDA model with n_topics=6\n",
    "n_topics = 6\n",
    "lda = LdaModel(corpus=corpus, num_topics=n_topics, id2word=dictionary)\n",
    "\n",
    "# get the topic probabilities for each document\n",
    "doc_topic_probs = lda.get_document_topics(corpus)\n",
    "\n",
    "# define the topic words for each topic\n",
    "topic_words = get_lda_topics(lda, n_topics)\n",
    "\n",
    "# assign the main topic concept to each tweet\n",
    "main_topic_concept = []\n",
    "for doc in doc_topic_probs:\n",
    "    main_topic_idx = max(doc, key=lambda x: x[1])[0]\n",
    "    main_topic_concept.append(topic_words[main_topic_idx])\n",
    "\n",
    "# add the main topic concept column to the tweets dataframe\n",
    "tweets['main_topic_6_LDA'] = main_topic_concept"
   ]
  },
  {
   "cell_type": "code",
   "execution_count": 75,
   "id": "1d3fc58f",
   "metadata": {},
   "outputs": [],
   "source": [
    "unique_topics = tweets['main_topic_6_LDA'].apply(tuple).unique()"
   ]
  },
  {
   "cell_type": "code",
   "execution_count": 76,
   "id": "3270f6e0",
   "metadata": {},
   "outputs": [
    {
     "data": {
      "text/plain": [
       "array([('work', 'famili', 'child', 'live', 'act'),\n",
       "       ('via', 'year', 'day', 'nation', 'u'),\n",
       "       ('senat', 'act', 'right', 'health', 'bill'),\n",
       "       ('infrastructur', 'fund', 'commun', 'thank', 'help'),\n",
       "       ('ukrain', 'vote', 'putin', 'russia', 'court'),\n",
       "       ('biden', 'american', 'border', 'energi', 'inflat')], dtype=object)"
      ]
     },
     "execution_count": 76,
     "metadata": {},
     "output_type": "execute_result"
    }
   ],
   "source": [
    "unique_topics"
   ]
  },
  {
   "cell_type": "code",
   "execution_count": 82,
   "id": "d7c3ffe5",
   "metadata": {},
   "outputs": [],
   "source": [
    "#tweets = tweets.drop(['main_topic_6.1', 'pp_text_tok', 'main_topic_12.1', 'main_topic_6', 'main_topic_12',                      'main_topic_18', 'main_topic_24', 'main_topic_30', 'main_topic_36', 'main_topic_42',                      'main_topic_48', 'main_topic_2', 'main_topic_10', 'main_topic_14', 'pp_text_LDA'], axis=1)\n",
    "tweets['main_topic_6_LDA'] = tweets['main_topic_6_LDA'].apply(tuple)\n",
    "tweets['topic_6_LDA'] = pd.factorize(tweets['main_topic_6_LDA'])[0]\n"
   ]
  },
  {
   "cell_type": "code",
   "execution_count": 84,
   "id": "676cb8dc",
   "metadata": {},
   "outputs": [],
   "source": [
    "#tweets.to_csv('tweets_classified_1.csv', index=False)"
   ]
  },
  {
   "cell_type": "code",
   "execution_count": 86,
   "id": "5d596d55",
   "metadata": {},
   "outputs": [
    {
     "data": {
      "text/plain": [
       "Index(['created_at', 'user_id', 'text', 'pp_text', 'cluster', 'topic_6_LDA',\n",
       "       'main_topic_6_LDA'],\n",
       "      dtype='object')"
      ]
     },
     "execution_count": 86,
     "metadata": {},
     "output_type": "execute_result"
    }
   ],
   "source": [
    "tweets.columns"
   ]
  },
  {
   "cell_type": "code",
   "execution_count": 90,
   "id": "0630a11d",
   "metadata": {},
   "outputs": [
    {
     "data": {
      "text/html": [
       "<div>\n",
       "<style scoped>\n",
       "    .dataframe tbody tr th:only-of-type {\n",
       "        vertical-align: middle;\n",
       "    }\n",
       "\n",
       "    .dataframe tbody tr th {\n",
       "        vertical-align: top;\n",
       "    }\n",
       "\n",
       "    .dataframe thead th {\n",
       "        text-align: right;\n",
       "    }\n",
       "</style>\n",
       "<table border=\"1\" class=\"dataframe\">\n",
       "  <thead>\n",
       "    <tr style=\"text-align: right;\">\n",
       "      <th></th>\n",
       "      <th>created_at</th>\n",
       "      <th>user_id</th>\n",
       "      <th>text</th>\n",
       "      <th>pp_text</th>\n",
       "      <th>cluster</th>\n",
       "      <th>topic_6_LDA</th>\n",
       "      <th>main_topic_6_LDA</th>\n",
       "    </tr>\n",
       "  </thead>\n",
       "  <tbody>\n",
       "    <tr>\n",
       "      <th>0</th>\n",
       "      <td>2022-12-30 16:01:00+00:00</td>\n",
       "      <td>1074518754</td>\n",
       "      <td>This past year, Congressional Dems worked hard...</td>\n",
       "      <td>past year congression dem work hard lower heal...</td>\n",
       "      <td>2</td>\n",
       "      <td>0</td>\n",
       "      <td>(work, famili, child, live, act)</td>\n",
       "    </tr>\n",
       "    <tr>\n",
       "      <th>1</th>\n",
       "      <td>2022-12-26 15:45:59+00:00</td>\n",
       "      <td>1074518754</td>\n",
       "      <td>Today marks the first day of #Kwanzaa! I’m wis...</td>\n",
       "      <td>today mark first day kwanzaa im wish celebr wi...</td>\n",
       "      <td>4</td>\n",
       "      <td>1</td>\n",
       "      <td>(via, year, day, nation, u)</td>\n",
       "    </tr>\n",
       "    <tr>\n",
       "      <th>2</th>\n",
       "      <td>2022-12-25 16:11:25+00:00</td>\n",
       "      <td>1074518754</td>\n",
       "      <td>Merry Christmas and happy holidays Wisconsin! ...</td>\n",
       "      <td>merri christma happi holiday wisconsin httpstc...</td>\n",
       "      <td>3</td>\n",
       "      <td>1</td>\n",
       "      <td>(via, year, day, nation, u)</td>\n",
       "    </tr>\n",
       "    <tr>\n",
       "      <th>3</th>\n",
       "      <td>2022-12-23 17:54:20+00:00</td>\n",
       "      <td>1074518754</td>\n",
       "      <td>Happy holidays to the brave men &amp;amp; women in...</td>\n",
       "      <td>happi holiday brave men amp woman arm forc ser...</td>\n",
       "      <td>4</td>\n",
       "      <td>1</td>\n",
       "      <td>(via, year, day, nation, u)</td>\n",
       "    </tr>\n",
       "    <tr>\n",
       "      <th>4</th>\n",
       "      <td>2022-12-22 19:29:26+00:00</td>\n",
       "      <td>1074518754</td>\n",
       "      <td>My Statement on the Senate’s Omnibus passage: ...</td>\n",
       "      <td>statement senat omnibu passag httpstcordupgatm</td>\n",
       "      <td>0</td>\n",
       "      <td>2</td>\n",
       "      <td>(senat, act, right, health, bill)</td>\n",
       "    </tr>\n",
       "    <tr>\n",
       "      <th>...</th>\n",
       "      <td>...</td>\n",
       "      <td>...</td>\n",
       "      <td>...</td>\n",
       "      <td>...</td>\n",
       "      <td>...</td>\n",
       "      <td>...</td>\n",
       "      <td>...</td>\n",
       "    </tr>\n",
       "    <tr>\n",
       "      <th>21098</th>\n",
       "      <td>2022-08-25 20:48:26+00:00</td>\n",
       "      <td>13218102</td>\n",
       "      <td>#BidenBorderCrisis https://t.co/QbisajChIn</td>\n",
       "      <td>bidenbordercrisi httpstcoqbisajchin</td>\n",
       "      <td>0</td>\n",
       "      <td>4</td>\n",
       "      <td>(ukrain, vote, putin, russia, court)</td>\n",
       "    </tr>\n",
       "    <tr>\n",
       "      <th>21099</th>\n",
       "      <td>2022-08-25 17:45:14+00:00</td>\n",
       "      <td>13218102</td>\n",
       "      <td>RT @KellyO: WH cannot say how much the student...</td>\n",
       "      <td>rt kellyo wh say much student loan forgiv plan...</td>\n",
       "      <td>5</td>\n",
       "      <td>5</td>\n",
       "      <td>(biden, american, border, energi, inflat)</td>\n",
       "    </tr>\n",
       "    <tr>\n",
       "      <th>21100</th>\n",
       "      <td>2022-08-25 17:42:19+00:00</td>\n",
       "      <td>13218102</td>\n",
       "      <td>With IRS Funding, Democrats Plan To Audit the ...</td>\n",
       "      <td>ir fund democrat plan audit middl class httpst...</td>\n",
       "      <td>5</td>\n",
       "      <td>5</td>\n",
       "      <td>(biden, american, border, energi, inflat)</td>\n",
       "    </tr>\n",
       "    <tr>\n",
       "      <th>21101</th>\n",
       "      <td>2022-08-25 17:40:45+00:00</td>\n",
       "      <td>13218102</td>\n",
       "      <td>Great to visit @TAMUHealth Center of Excellenc...</td>\n",
       "      <td>great visit tamuhealth center excel forens nur...</td>\n",
       "      <td>3</td>\n",
       "      <td>3</td>\n",
       "      <td>(infrastructur, fund, commun, thank, help)</td>\n",
       "    </tr>\n",
       "    <tr>\n",
       "      <th>21102</th>\n",
       "      <td>2022-08-25 16:21:58+00:00</td>\n",
       "      <td>13218102</td>\n",
       "      <td>Due to a provision Majority Leader Schumer inc...</td>\n",
       "      <td>due provis major leader schumer includ america...</td>\n",
       "      <td>5</td>\n",
       "      <td>5</td>\n",
       "      <td>(biden, american, border, energi, inflat)</td>\n",
       "    </tr>\n",
       "  </tbody>\n",
       "</table>\n",
       "<p>21103 rows × 7 columns</p>\n",
       "</div>"
      ],
      "text/plain": [
       "                     created_at     user_id  \\\n",
       "0     2022-12-30 16:01:00+00:00  1074518754   \n",
       "1     2022-12-26 15:45:59+00:00  1074518754   \n",
       "2     2022-12-25 16:11:25+00:00  1074518754   \n",
       "3     2022-12-23 17:54:20+00:00  1074518754   \n",
       "4     2022-12-22 19:29:26+00:00  1074518754   \n",
       "...                         ...         ...   \n",
       "21098 2022-08-25 20:48:26+00:00    13218102   \n",
       "21099 2022-08-25 17:45:14+00:00    13218102   \n",
       "21100 2022-08-25 17:42:19+00:00    13218102   \n",
       "21101 2022-08-25 17:40:45+00:00    13218102   \n",
       "21102 2022-08-25 16:21:58+00:00    13218102   \n",
       "\n",
       "                                                    text  \\\n",
       "0      This past year, Congressional Dems worked hard...   \n",
       "1      Today marks the first day of #Kwanzaa! I’m wis...   \n",
       "2      Merry Christmas and happy holidays Wisconsin! ...   \n",
       "3      Happy holidays to the brave men &amp; women in...   \n",
       "4      My Statement on the Senate’s Omnibus passage: ...   \n",
       "...                                                  ...   \n",
       "21098         #BidenBorderCrisis https://t.co/QbisajChIn   \n",
       "21099  RT @KellyO: WH cannot say how much the student...   \n",
       "21100  With IRS Funding, Democrats Plan To Audit the ...   \n",
       "21101  Great to visit @TAMUHealth Center of Excellenc...   \n",
       "21102  Due to a provision Majority Leader Schumer inc...   \n",
       "\n",
       "                                                 pp_text  cluster  \\\n",
       "0      past year congression dem work hard lower heal...        2   \n",
       "1      today mark first day kwanzaa im wish celebr wi...        4   \n",
       "2      merri christma happi holiday wisconsin httpstc...        3   \n",
       "3      happi holiday brave men amp woman arm forc ser...        4   \n",
       "4         statement senat omnibu passag httpstcordupgatm        0   \n",
       "...                                                  ...      ...   \n",
       "21098                bidenbordercrisi httpstcoqbisajchin        0   \n",
       "21099  rt kellyo wh say much student loan forgiv plan...        5   \n",
       "21100  ir fund democrat plan audit middl class httpst...        5   \n",
       "21101  great visit tamuhealth center excel forens nur...        3   \n",
       "21102  due provis major leader schumer includ america...        5   \n",
       "\n",
       "       topic_6_LDA                            main_topic_6_LDA  \n",
       "0                0            (work, famili, child, live, act)  \n",
       "1                1                 (via, year, day, nation, u)  \n",
       "2                1                 (via, year, day, nation, u)  \n",
       "3                1                 (via, year, day, nation, u)  \n",
       "4                2           (senat, act, right, health, bill)  \n",
       "...            ...                                         ...  \n",
       "21098            4        (ukrain, vote, putin, russia, court)  \n",
       "21099            5   (biden, american, border, energi, inflat)  \n",
       "21100            5   (biden, american, border, energi, inflat)  \n",
       "21101            3  (infrastructur, fund, commun, thank, help)  \n",
       "21102            5   (biden, american, border, energi, inflat)  \n",
       "\n",
       "[21103 rows x 7 columns]"
      ]
     },
     "execution_count": 90,
     "metadata": {},
     "output_type": "execute_result"
    }
   ],
   "source": [
    "tweets['created_at']"
   ]
  },
  {
   "cell_type": "code",
   "execution_count": 110,
   "id": "68cf0ab7",
   "metadata": {},
   "outputs": [
    {
     "data": {
      "image/png": "[encoded data removed]",
      "text/plain": [
       "<Figure size 432x288 with 2 Axes>"
      ]
     },
     "metadata": {
      "needs_background": "light"
     },
     "output_type": "display_data"
    }
   ],
   "source": [
    "# pivot table with daily count of tweets\n",
    "pivot_table = tweets.pivot_table(values='text', index='user_id', columns='created_at', aggfunc='count', fill_value=0)\n",
    "\n",
    "# convert column names to datetime format\n",
    "pivot_table.columns = pd.to_datetime(pivot_table.columns, format='%d%m%Y', errors='coerce')\n",
    "\n",
    "# sort the columns in ascending order\n",
    "pivot_table = pivot_table.sort_values(by=pivot_table.columns.tolist()[0])\n",
    "\n",
    "# plot heatmap of pivot table\n",
    "#plt.figure(figsize=(10,25))\n",
    "sns.heatmap(pivot_table, cmap='Blues', cbar=True)\n",
    "plt.xlabel('Date')\n",
    "plt.title('Daily Tweet Frequency by User')\n",
    "plt.show()\n"
   ]
  },
  {
   "cell_type": "code",
   "execution_count": 113,
   "id": "fa532e8b",
   "metadata": {},
   "outputs": [
    {
     "name": "stderr",
     "output_type": "stream",
     "text": [
      "<ipython-input-113-43acc5588f3b>:2: FutureWarning: Series.dt.weekofyear and Series.dt.week have been deprecated. Please use Series.dt.isocalendar().week instead.\n",
      "  tweets['week'] = tweets['created_at'].dt.week\n"
     ]
    },
    {
     "data": {
      "image/png": "[encoded data removed]",
      "text/plain": [
       "<Figure size 432x288 with 2 Axes>"
      ]
     },
     "metadata": {
      "needs_background": "light"
     },
     "output_type": "display_data"
    }
   ],
   "source": [
    "# create a new column with the week number\n",
    "tweets['week'] = tweets['created_at'].dt.week\n",
    "\n",
    "# pivot table with weekly count of tweets\n",
    "pivot_table = tweets.pivot_table(values='pp_text', index='user_id', columns='week', aggfunc='count', fill_value=0)\n",
    "\n",
    "# sort the columns in ascending order\n",
    "pivot_table = pivot_table.sort_values(by=pivot_table.columns.tolist()[0])\n",
    "\n",
    "# plot heatmap of pivot table\n",
    "sns.heatmap(pivot_table, cmap='Blues', cbar=True)\n",
    "plt.xlabel('Week')\n",
    "plt.title('Weekly Tweet Frequency by User')\n",
    "plt.show()"
   ]
  },
  {
   "cell_type": "code",
   "execution_count": 115,
   "id": "b8d73f11",
   "metadata": {},
   "outputs": [
    {
     "name": "stderr",
     "output_type": "stream",
     "text": [
      "<ipython-input-115-afc2ebd3530a>:2: FutureWarning: Series.dt.weekofyear and Series.dt.week have been deprecated. Please use Series.dt.isocalendar().week instead.\n",
      "  tweets['week'] = tweets['created_at'].dt.week\n"
     ]
    },
    {
     "data": {
      "image/png": "[encoded data removed]",
      "text/plain": [
       "<Figure size 432x288 with 2 Axes>"
      ]
     },
     "metadata": {
      "needs_background": "light"
     },
     "output_type": "display_data"
    }
   ],
   "source": [
    "# create a new column with the week number\n",
    "tweets['week'] = tweets['created_at'].dt.week\n",
    "\n",
    "# pivot table with weekly count of tweets\n",
    "pivot_table = tweets.pivot_table(values='pp_text', index='topic_6_LDA', columns='week', aggfunc='count', fill_value=0)\n",
    "\n",
    "# sort the columns in ascending order\n",
    "pivot_table = pivot_table.sort_values(by=pivot_table.columns.tolist()[0])\n",
    "\n",
    "# plot heatmap of pivot table\n",
    "sns.heatmap(pivot_table, cmap='Blues', cbar=True)\n",
    "plt.xlabel('Week')\n",
    "plt.title('Weekly Tweet Frequency by Topic')\n",
    "plt.show()"
   ]
  },
  {
   "cell_type": "code",
   "execution_count": null,
   "id": "bc8b1766",
   "metadata": {},
   "outputs": [],
   "source": []
  }
 ],
 "metadata": {
  "kernelspec": {
   "display_name": "Python 3",
   "language": "python",
   "name": "python3"
  },
  "language_info": {
   "codemirror_mode": {
    "name": "ipython",
    "version": 3
   },
   "file_extension": ".py",
   "mimetype": "text/x-python",
   "name": "python",
   "nbconvert_exporter": "python",
   "pygments_lexer": "ipython3",
   "version": "3.8.8"
  }
 },
 "nbformat": 4,
 "nbformat_minor": 5
}
